{
 "cells": [
  {
   "cell_type": "code",
   "execution_count": 1,
   "id": "provincial-eleven",
   "metadata": {},
   "outputs": [],
   "source": [
    "import pandas as pd\n",
    "import matplotlib.pyplot as plt\n",
    "import numpy as np\n",
    "import seaborn as sns"
   ]
  },
  {
   "cell_type": "code",
   "execution_count": 6,
   "id": "southeast-atlantic",
   "metadata": {},
   "outputs": [
    {
     "name": "stdout",
     "output_type": "stream",
     "text": [
      "Collecting openpyxl\n",
      "  Downloading openpyxl-3.0.8-py2.py3-none-any.whl (244 kB)\n",
      "\u001b[K     |████████████████████████████████| 244 kB 3.1 MB/s eta 0:00:01\n",
      "\u001b[?25hCollecting et-xmlfile\n",
      "  Downloading et_xmlfile-1.1.0-py3-none-any.whl (4.7 kB)\n",
      "Installing collected packages: et-xmlfile, openpyxl\n",
      "Successfully installed et-xmlfile-1.1.0 openpyxl-3.0.8\n",
      "\u001b[33mWARNING: You are using pip version 21.2.2; however, version 21.2.4 is available.\n",
      "You should consider upgrading via the '/Library/Frameworks/Python.framework/Versions/3.7/bin/python3 -m pip install --upgrade pip' command.\u001b[0m\n"
     ]
    }
   ],
   "source": []
  },
  {
   "cell_type": "code",
   "execution_count": 2,
   "id": "eleven-commission",
   "metadata": {},
   "outputs": [
    {
     "name": "stderr",
     "output_type": "stream",
     "text": [
      "/Library/Frameworks/Python.framework/Versions/3.7/lib/python3.7/site-packages/openpyxl/styles/stylesheet.py:226: UserWarning: Workbook contains no default style, apply openpyxl's default\n",
      "  warn(\"Workbook contains no default style, apply openpyxl's default\")\n"
     ]
    }
   ],
   "source": [
    "df = pd.read_excel(\"data.xlsx\",skiprows = 2, usecols = ('B,C,G,I,W,N'))"
   ]
  },
  {
   "cell_type": "code",
   "execution_count": 31,
   "id": "private-bankruptcy",
   "metadata": {},
   "outputs": [
    {
     "data": {
      "text/html": [
       "<div>\n",
       "<style scoped>\n",
       "    .dataframe tbody tr th:only-of-type {\n",
       "        vertical-align: middle;\n",
       "    }\n",
       "\n",
       "    .dataframe tbody tr th {\n",
       "        vertical-align: top;\n",
       "    }\n",
       "\n",
       "    .dataframe thead th {\n",
       "        text-align: right;\n",
       "    }\n",
       "</style>\n",
       "<table border=\"1\" class=\"dataframe\">\n",
       "  <thead>\n",
       "    <tr style=\"text-align: right;\">\n",
       "      <th></th>\n",
       "      <th>Region</th>\n",
       "      <th>Funding Stream</th>\n",
       "      <th>FY</th>\n",
       "      <th>Type</th>\n",
       "      <th>Bookable Date</th>\n",
       "      <th>FY21 Payment Amount</th>\n",
       "    </tr>\n",
       "  </thead>\n",
       "  <tbody>\n",
       "    <tr>\n",
       "      <th>0</th>\n",
       "      <td>National</td>\n",
       "      <td>Corporate</td>\n",
       "      <td>2021</td>\n",
       "      <td>New</td>\n",
       "      <td>2021-04-08</td>\n",
       "      <td>5000.0</td>\n",
       "    </tr>\n",
       "    <tr>\n",
       "      <th>1</th>\n",
       "      <td>National</td>\n",
       "      <td>Corporate</td>\n",
       "      <td>2021</td>\n",
       "      <td>Upgrade</td>\n",
       "      <td>2020-04-13</td>\n",
       "      <td>325000.0</td>\n",
       "    </tr>\n",
       "    <tr>\n",
       "      <th>2</th>\n",
       "      <td>National</td>\n",
       "      <td>Corporate</td>\n",
       "      <td>2021</td>\n",
       "      <td>New</td>\n",
       "      <td>2021-04-08</td>\n",
       "      <td>105000.0</td>\n",
       "    </tr>\n",
       "    <tr>\n",
       "      <th>3</th>\n",
       "      <td>National</td>\n",
       "      <td>Corporate</td>\n",
       "      <td>2021</td>\n",
       "      <td>New</td>\n",
       "      <td>NaT</td>\n",
       "      <td>NaN</td>\n",
       "    </tr>\n",
       "    <tr>\n",
       "      <th>4</th>\n",
       "      <td>National</td>\n",
       "      <td>Corporate</td>\n",
       "      <td>2021</td>\n",
       "      <td>Upgrade</td>\n",
       "      <td>NaT</td>\n",
       "      <td>NaN</td>\n",
       "    </tr>\n",
       "  </tbody>\n",
       "</table>\n",
       "</div>"
      ],
      "text/plain": [
       "     Region Funding Stream    FY     Type Bookable Date  FY21 Payment Amount\n",
       "0  National      Corporate  2021      New    2021-04-08               5000.0\n",
       "1  National      Corporate  2021  Upgrade    2020-04-13             325000.0\n",
       "2  National      Corporate  2021      New    2021-04-08             105000.0\n",
       "3  National      Corporate  2021      New           NaT                  NaN\n",
       "4  National      Corporate  2021  Upgrade           NaT                  NaN"
      ]
     },
     "execution_count": 31,
     "metadata": {},
     "output_type": "execute_result"
    }
   ],
   "source": [
    "df.head()"
   ]
  },
  {
   "cell_type": "code",
   "execution_count": 32,
   "id": "further-robinson",
   "metadata": {},
   "outputs": [],
   "source": [
    "df = df[df[\"FY\"] == 2021]"
   ]
  },
  {
   "cell_type": "code",
   "execution_count": 33,
   "id": "dangerous-diploma",
   "metadata": {},
   "outputs": [
    {
     "data": {
      "text/plain": [
       "2021    21673\n",
       "Name: FY, dtype: int64"
      ]
     },
     "execution_count": 33,
     "metadata": {},
     "output_type": "execute_result"
    }
   ],
   "source": [
    "df.FY.value_counts()"
   ]
  },
  {
   "cell_type": "code",
   "execution_count": 34,
   "id": "introductory-queue",
   "metadata": {},
   "outputs": [
    {
     "data": {
      "text/html": [
       "<div>\n",
       "<style scoped>\n",
       "    .dataframe tbody tr th:only-of-type {\n",
       "        vertical-align: middle;\n",
       "    }\n",
       "\n",
       "    .dataframe tbody tr th {\n",
       "        vertical-align: top;\n",
       "    }\n",
       "\n",
       "    .dataframe thead th {\n",
       "        text-align: right;\n",
       "    }\n",
       "</style>\n",
       "<table border=\"1\" class=\"dataframe\">\n",
       "  <thead>\n",
       "    <tr style=\"text-align: right;\">\n",
       "      <th></th>\n",
       "      <th>Region</th>\n",
       "      <th>Funding Stream</th>\n",
       "      <th>FY</th>\n",
       "      <th>Type</th>\n",
       "      <th>Bookable Date</th>\n",
       "      <th>FY21 Payment Amount</th>\n",
       "    </tr>\n",
       "  </thead>\n",
       "  <tbody>\n",
       "    <tr>\n",
       "      <th>0</th>\n",
       "      <td>National</td>\n",
       "      <td>Corporate</td>\n",
       "      <td>2021</td>\n",
       "      <td>New</td>\n",
       "      <td>2021-04-08</td>\n",
       "      <td>5000.0</td>\n",
       "    </tr>\n",
       "    <tr>\n",
       "      <th>1</th>\n",
       "      <td>National</td>\n",
       "      <td>Corporate</td>\n",
       "      <td>2021</td>\n",
       "      <td>Upgrade</td>\n",
       "      <td>2020-04-13</td>\n",
       "      <td>325000.0</td>\n",
       "    </tr>\n",
       "    <tr>\n",
       "      <th>2</th>\n",
       "      <td>National</td>\n",
       "      <td>Corporate</td>\n",
       "      <td>2021</td>\n",
       "      <td>New</td>\n",
       "      <td>2021-04-08</td>\n",
       "      <td>105000.0</td>\n",
       "    </tr>\n",
       "    <tr>\n",
       "      <th>3</th>\n",
       "      <td>National</td>\n",
       "      <td>Corporate</td>\n",
       "      <td>2021</td>\n",
       "      <td>New</td>\n",
       "      <td>NaT</td>\n",
       "      <td>NaN</td>\n",
       "    </tr>\n",
       "    <tr>\n",
       "      <th>4</th>\n",
       "      <td>National</td>\n",
       "      <td>Corporate</td>\n",
       "      <td>2021</td>\n",
       "      <td>Upgrade</td>\n",
       "      <td>NaT</td>\n",
       "      <td>NaN</td>\n",
       "    </tr>\n",
       "  </tbody>\n",
       "</table>\n",
       "</div>"
      ],
      "text/plain": [
       "     Region Funding Stream    FY     Type Bookable Date  FY21 Payment Amount\n",
       "0  National      Corporate  2021      New    2021-04-08               5000.0\n",
       "1  National      Corporate  2021  Upgrade    2020-04-13             325000.0\n",
       "2  National      Corporate  2021      New    2021-04-08             105000.0\n",
       "3  National      Corporate  2021      New           NaT                  NaN\n",
       "4  National      Corporate  2021  Upgrade           NaT                  NaN"
      ]
     },
     "execution_count": 34,
     "metadata": {},
     "output_type": "execute_result"
    }
   ],
   "source": [
    "df.head()"
   ]
  },
  {
   "cell_type": "code",
   "execution_count": 35,
   "id": "plain-melbourne",
   "metadata": {},
   "outputs": [],
   "source": [
    "State = ['New York', 'New Jersey', 'Connecticut']\n",
    "df1 = df[df['Region'].isin(State)]\n"
   ]
  },
  {
   "cell_type": "code",
   "execution_count": 36,
   "id": "female-office",
   "metadata": {},
   "outputs": [
    {
     "data": {
      "text/html": [
       "<div>\n",
       "<style scoped>\n",
       "    .dataframe tbody tr th:only-of-type {\n",
       "        vertical-align: middle;\n",
       "    }\n",
       "\n",
       "    .dataframe tbody tr th {\n",
       "        vertical-align: top;\n",
       "    }\n",
       "\n",
       "    .dataframe thead th {\n",
       "        text-align: right;\n",
       "    }\n",
       "</style>\n",
       "<table border=\"1\" class=\"dataframe\">\n",
       "  <thead>\n",
       "    <tr style=\"text-align: right;\">\n",
       "      <th></th>\n",
       "      <th>Region</th>\n",
       "      <th>Funding Stream</th>\n",
       "      <th>FY</th>\n",
       "      <th>Type</th>\n",
       "      <th>Bookable Date</th>\n",
       "      <th>FY21 Payment Amount</th>\n",
       "    </tr>\n",
       "  </thead>\n",
       "  <tbody>\n",
       "    <tr>\n",
       "      <th>5808</th>\n",
       "      <td>Connecticut</td>\n",
       "      <td>Corporate</td>\n",
       "      <td>2021</td>\n",
       "      <td>Renewal</td>\n",
       "      <td>2021-01-06</td>\n",
       "      <td>5000.00</td>\n",
       "    </tr>\n",
       "    <tr>\n",
       "      <th>5809</th>\n",
       "      <td>Connecticut</td>\n",
       "      <td>Corporate</td>\n",
       "      <td>2021</td>\n",
       "      <td>New</td>\n",
       "      <td>2020-07-01</td>\n",
       "      <td>2310.00</td>\n",
       "    </tr>\n",
       "    <tr>\n",
       "      <th>5810</th>\n",
       "      <td>Connecticut</td>\n",
       "      <td>Corporate</td>\n",
       "      <td>2021</td>\n",
       "      <td>New</td>\n",
       "      <td>2021-03-02</td>\n",
       "      <td>170.23</td>\n",
       "    </tr>\n",
       "    <tr>\n",
       "      <th>5811</th>\n",
       "      <td>Connecticut</td>\n",
       "      <td>Corporate</td>\n",
       "      <td>2021</td>\n",
       "      <td>Renewal</td>\n",
       "      <td>2020-12-07</td>\n",
       "      <td>5000.00</td>\n",
       "    </tr>\n",
       "    <tr>\n",
       "      <th>5812</th>\n",
       "      <td>Connecticut</td>\n",
       "      <td>Corporate</td>\n",
       "      <td>2021</td>\n",
       "      <td>Renewal</td>\n",
       "      <td>2020-09-30</td>\n",
       "      <td>60000.00</td>\n",
       "    </tr>\n",
       "  </tbody>\n",
       "</table>\n",
       "</div>"
      ],
      "text/plain": [
       "           Region Funding Stream    FY     Type Bookable Date  \\\n",
       "5808  Connecticut      Corporate  2021  Renewal    2021-01-06   \n",
       "5809  Connecticut      Corporate  2021      New    2020-07-01   \n",
       "5810  Connecticut      Corporate  2021      New    2021-03-02   \n",
       "5811  Connecticut      Corporate  2021  Renewal    2020-12-07   \n",
       "5812  Connecticut      Corporate  2021  Renewal    2020-09-30   \n",
       "\n",
       "      FY21 Payment Amount  \n",
       "5808              5000.00  \n",
       "5809              2310.00  \n",
       "5810               170.23  \n",
       "5811              5000.00  \n",
       "5812             60000.00  "
      ]
     },
     "execution_count": 36,
     "metadata": {},
     "output_type": "execute_result"
    }
   ],
   "source": [
    "df1.head()"
   ]
  },
  {
   "cell_type": "code",
   "execution_count": 37,
   "id": "ongoing-independence",
   "metadata": {},
   "outputs": [
    {
     "name": "stderr",
     "output_type": "stream",
     "text": [
      "/Library/Frameworks/Python.framework/Versions/3.7/lib/python3.7/site-packages/ipykernel_launcher.py:1: SettingWithCopyWarning: \n",
      "A value is trying to be set on a copy of a slice from a DataFrame.\n",
      "Try using .loc[row_indexer,col_indexer] = value instead\n",
      "\n",
      "See the caveats in the documentation: https://pandas.pydata.org/pandas-docs/stable/user_guide/indexing.html#returning-a-view-versus-a-copy\n",
      "  \"\"\"Entry point for launching an IPython kernel.\n"
     ]
    },
    {
     "data": {
      "text/html": [
       "<div>\n",
       "<style scoped>\n",
       "    .dataframe tbody tr th:only-of-type {\n",
       "        vertical-align: middle;\n",
       "    }\n",
       "\n",
       "    .dataframe tbody tr th {\n",
       "        vertical-align: top;\n",
       "    }\n",
       "\n",
       "    .dataframe thead th {\n",
       "        text-align: right;\n",
       "    }\n",
       "</style>\n",
       "<table border=\"1\" class=\"dataframe\">\n",
       "  <thead>\n",
       "    <tr style=\"text-align: right;\">\n",
       "      <th></th>\n",
       "      <th>Region</th>\n",
       "      <th>Funding Stream</th>\n",
       "      <th>FY</th>\n",
       "      <th>Type</th>\n",
       "      <th>FY21 Payment Amount</th>\n",
       "    </tr>\n",
       "    <tr>\n",
       "      <th>Bookable Date</th>\n",
       "      <th></th>\n",
       "      <th></th>\n",
       "      <th></th>\n",
       "      <th></th>\n",
       "      <th></th>\n",
       "    </tr>\n",
       "  </thead>\n",
       "  <tbody>\n",
       "    <tr>\n",
       "      <th>2021-01-06</th>\n",
       "      <td>Connecticut</td>\n",
       "      <td>Corporate</td>\n",
       "      <td>2021</td>\n",
       "      <td>Renewal</td>\n",
       "      <td>5000.00</td>\n",
       "    </tr>\n",
       "    <tr>\n",
       "      <th>2020-07-01</th>\n",
       "      <td>Connecticut</td>\n",
       "      <td>Corporate</td>\n",
       "      <td>2021</td>\n",
       "      <td>New</td>\n",
       "      <td>2310.00</td>\n",
       "    </tr>\n",
       "    <tr>\n",
       "      <th>2021-03-02</th>\n",
       "      <td>Connecticut</td>\n",
       "      <td>Corporate</td>\n",
       "      <td>2021</td>\n",
       "      <td>New</td>\n",
       "      <td>170.23</td>\n",
       "    </tr>\n",
       "    <tr>\n",
       "      <th>2020-12-07</th>\n",
       "      <td>Connecticut</td>\n",
       "      <td>Corporate</td>\n",
       "      <td>2021</td>\n",
       "      <td>Renewal</td>\n",
       "      <td>5000.00</td>\n",
       "    </tr>\n",
       "    <tr>\n",
       "      <th>2020-09-30</th>\n",
       "      <td>Connecticut</td>\n",
       "      <td>Corporate</td>\n",
       "      <td>2021</td>\n",
       "      <td>Renewal</td>\n",
       "      <td>60000.00</td>\n",
       "    </tr>\n",
       "  </tbody>\n",
       "</table>\n",
       "</div>"
      ],
      "text/plain": [
       "                    Region Funding Stream    FY     Type  FY21 Payment Amount\n",
       "Bookable Date                                                                \n",
       "2021-01-06     Connecticut      Corporate  2021  Renewal              5000.00\n",
       "2020-07-01     Connecticut      Corporate  2021      New              2310.00\n",
       "2021-03-02     Connecticut      Corporate  2021      New               170.23\n",
       "2020-12-07     Connecticut      Corporate  2021  Renewal              5000.00\n",
       "2020-09-30     Connecticut      Corporate  2021  Renewal             60000.00"
      ]
     },
     "execution_count": 37,
     "metadata": {},
     "output_type": "execute_result"
    }
   ],
   "source": [
    "df1['Bookable Date'] = pd.to_datetime(df['Bookable Date'])\n",
    "df1.set_index('Bookable Date', inplace=True)\n",
    "df1.head()"
   ]
  },
  {
   "cell_type": "code",
   "execution_count": 83,
   "id": "marine-belfast",
   "metadata": {},
   "outputs": [
    {
     "data": {
      "text/plain": [
       "1390"
      ]
     },
     "execution_count": 83,
     "metadata": {},
     "output_type": "execute_result"
    }
   ],
   "source": [
    "df1.index = pd.to_datetime(df1.index)\n",
    "df1 = df1.sort_index()\n",
    "\n",
    "df2 = df1['2020-06-01':'2021-05-31']\n",
    "len(df2.index)"
   ]
  },
  {
   "cell_type": "code",
   "execution_count": 74,
   "id": "alike-inspection",
   "metadata": {},
   "outputs": [
    {
     "name": "stderr",
     "output_type": "stream",
     "text": [
      "/Library/Frameworks/Python.framework/Versions/3.7/lib/python3.7/site-packages/ipykernel_launcher.py:1: FutureWarning: Value based partial slicing on non-monotonic DatetimeIndexes with non-existing keys is deprecated and will raise a KeyError in a future Version.\n",
      "  \"\"\"Entry point for launching an IPython kernel.\n"
     ]
    },
    {
     "data": {
      "text/plain": [
       "99"
      ]
     },
     "execution_count": 74,
     "metadata": {},
     "output_type": "execute_result"
    }
   ],
   "source": [
    "before_2021 = df1['2000-01-01':'2020-06-01']\n",
    "len(before_2021.index)\n"
   ]
  },
  {
   "cell_type": "code",
   "execution_count": 40,
   "id": "turkish-correlation",
   "metadata": {},
   "outputs": [
    {
     "data": {
      "text/plain": [
       "Region\n",
       "Connecticut    1234193.50\n",
       "New Jersey      112051.00\n",
       "New York       3521833.88\n",
       "Name: FY21 Payment Amount, dtype: float64"
      ]
     },
     "execution_count": 40,
     "metadata": {},
     "output_type": "execute_result"
    }
   ],
   "source": [
    "before_2021.groupby('Region')['FY21 Payment Amount'].sum()"
   ]
  },
  {
   "cell_type": "markdown",
   "id": "offshore-shepherd",
   "metadata": {},
   "source": [
    "There are 99 opportunities in total that has FY21 but the bookable date is prior to FY2021. The amount is actually quiet large."
   ]
  },
  {
   "cell_type": "code",
   "execution_count": 75,
   "id": "lesbian-germany",
   "metadata": {},
   "outputs": [
    {
     "name": "stderr",
     "output_type": "stream",
     "text": [
      "/Library/Frameworks/Python.framework/Versions/3.7/lib/python3.7/site-packages/ipykernel_launcher.py:1: SettingWithCopyWarning: \n",
      "A value is trying to be set on a copy of a slice from a DataFrame.\n",
      "Try using .loc[row_indexer,col_indexer] = value instead\n",
      "\n",
      "See the caveats in the documentation: https://pandas.pydata.org/pandas-docs/stable/user_guide/indexing.html#returning-a-view-versus-a-copy\n",
      "  \"\"\"Entry point for launching an IPython kernel.\n"
     ]
    },
    {
     "data": {
      "text/html": [
       "<div>\n",
       "<style scoped>\n",
       "    .dataframe tbody tr th:only-of-type {\n",
       "        vertical-align: middle;\n",
       "    }\n",
       "\n",
       "    .dataframe tbody tr th {\n",
       "        vertical-align: top;\n",
       "    }\n",
       "\n",
       "    .dataframe thead th {\n",
       "        text-align: right;\n",
       "    }\n",
       "</style>\n",
       "<table border=\"1\" class=\"dataframe\">\n",
       "  <thead>\n",
       "    <tr style=\"text-align: right;\">\n",
       "      <th></th>\n",
       "      <th>Region</th>\n",
       "      <th>Funding Stream</th>\n",
       "      <th>FY</th>\n",
       "      <th>Type</th>\n",
       "      <th>FY21 Payment Amount</th>\n",
       "      <th>date</th>\n",
       "    </tr>\n",
       "    <tr>\n",
       "      <th>Bookable Date</th>\n",
       "      <th></th>\n",
       "      <th></th>\n",
       "      <th></th>\n",
       "      <th></th>\n",
       "      <th></th>\n",
       "      <th></th>\n",
       "    </tr>\n",
       "  </thead>\n",
       "  <tbody>\n",
       "    <tr>\n",
       "      <th>2018-04-30</th>\n",
       "      <td>Connecticut</td>\n",
       "      <td>Foundation</td>\n",
       "      <td>2021</td>\n",
       "      <td>Renewal</td>\n",
       "      <td>25000.0</td>\n",
       "      <td>2020-06-01</td>\n",
       "    </tr>\n",
       "    <tr>\n",
       "      <th>2018-08-01</th>\n",
       "      <td>Connecticut</td>\n",
       "      <td>Individual</td>\n",
       "      <td>2021</td>\n",
       "      <td>Renewal</td>\n",
       "      <td>100000.0</td>\n",
       "      <td>2020-06-01</td>\n",
       "    </tr>\n",
       "    <tr>\n",
       "      <th>2018-10-31</th>\n",
       "      <td>New York</td>\n",
       "      <td>Individual</td>\n",
       "      <td>2021</td>\n",
       "      <td>Renewal</td>\n",
       "      <td>25000.0</td>\n",
       "      <td>2020-06-01</td>\n",
       "    </tr>\n",
       "    <tr>\n",
       "      <th>2018-11-01</th>\n",
       "      <td>New York</td>\n",
       "      <td>Individual</td>\n",
       "      <td>2021</td>\n",
       "      <td>Renewal</td>\n",
       "      <td>NaN</td>\n",
       "      <td>2020-06-01</td>\n",
       "    </tr>\n",
       "    <tr>\n",
       "      <th>2018-11-03</th>\n",
       "      <td>New York</td>\n",
       "      <td>Individual</td>\n",
       "      <td>2021</td>\n",
       "      <td>Renewal</td>\n",
       "      <td>NaN</td>\n",
       "      <td>2020-06-01</td>\n",
       "    </tr>\n",
       "  </tbody>\n",
       "</table>\n",
       "</div>"
      ],
      "text/plain": [
       "                    Region Funding Stream    FY     Type  FY21 Payment Amount  \\\n",
       "Bookable Date                                                                   \n",
       "2018-04-30     Connecticut     Foundation  2021  Renewal              25000.0   \n",
       "2018-08-01     Connecticut     Individual  2021  Renewal             100000.0   \n",
       "2018-10-31        New York     Individual  2021  Renewal              25000.0   \n",
       "2018-11-01        New York     Individual  2021  Renewal                  NaN   \n",
       "2018-11-03        New York     Individual  2021  Renewal                  NaN   \n",
       "\n",
       "                     date  \n",
       "Bookable Date              \n",
       "2018-04-30     2020-06-01  \n",
       "2018-08-01     2020-06-01  \n",
       "2018-10-31     2020-06-01  \n",
       "2018-11-01     2020-06-01  \n",
       "2018-11-03     2020-06-01  "
      ]
     },
     "execution_count": 75,
     "metadata": {},
     "output_type": "execute_result"
    }
   ],
   "source": [
    "before_2021['date'] = '2020-06-01'\n",
    "before_2021.head()"
   ]
  },
  {
   "cell_type": "code",
   "execution_count": 76,
   "id": "proprietary-champagne",
   "metadata": {},
   "outputs": [
    {
     "name": "stderr",
     "output_type": "stream",
     "text": [
      "/Library/Frameworks/Python.framework/Versions/3.7/lib/python3.7/site-packages/ipykernel_launcher.py:1: SettingWithCopyWarning: \n",
      "A value is trying to be set on a copy of a slice from a DataFrame.\n",
      "Try using .loc[row_indexer,col_indexer] = value instead\n",
      "\n",
      "See the caveats in the documentation: https://pandas.pydata.org/pandas-docs/stable/user_guide/indexing.html#returning-a-view-versus-a-copy\n",
      "  \"\"\"Entry point for launching an IPython kernel.\n"
     ]
    },
    {
     "data": {
      "text/html": [
       "<div>\n",
       "<style scoped>\n",
       "    .dataframe tbody tr th:only-of-type {\n",
       "        vertical-align: middle;\n",
       "    }\n",
       "\n",
       "    .dataframe tbody tr th {\n",
       "        vertical-align: top;\n",
       "    }\n",
       "\n",
       "    .dataframe thead th {\n",
       "        text-align: right;\n",
       "    }\n",
       "</style>\n",
       "<table border=\"1\" class=\"dataframe\">\n",
       "  <thead>\n",
       "    <tr style=\"text-align: right;\">\n",
       "      <th></th>\n",
       "      <th>Bookable Date</th>\n",
       "      <th>Region</th>\n",
       "      <th>Funding Stream</th>\n",
       "      <th>FY</th>\n",
       "      <th>Type</th>\n",
       "      <th>FY21 Payment Amount</th>\n",
       "      <th>date</th>\n",
       "    </tr>\n",
       "  </thead>\n",
       "  <tbody>\n",
       "    <tr>\n",
       "      <th>0</th>\n",
       "      <td>2018-04-30</td>\n",
       "      <td>Connecticut</td>\n",
       "      <td>Foundation</td>\n",
       "      <td>2021</td>\n",
       "      <td>Renewal</td>\n",
       "      <td>25000.0</td>\n",
       "      <td>2020-06-01</td>\n",
       "    </tr>\n",
       "    <tr>\n",
       "      <th>1</th>\n",
       "      <td>2018-08-01</td>\n",
       "      <td>Connecticut</td>\n",
       "      <td>Individual</td>\n",
       "      <td>2021</td>\n",
       "      <td>Renewal</td>\n",
       "      <td>100000.0</td>\n",
       "      <td>2020-06-01</td>\n",
       "    </tr>\n",
       "    <tr>\n",
       "      <th>2</th>\n",
       "      <td>2018-10-31</td>\n",
       "      <td>New York</td>\n",
       "      <td>Individual</td>\n",
       "      <td>2021</td>\n",
       "      <td>Renewal</td>\n",
       "      <td>25000.0</td>\n",
       "      <td>2020-06-01</td>\n",
       "    </tr>\n",
       "    <tr>\n",
       "      <th>3</th>\n",
       "      <td>2018-11-01</td>\n",
       "      <td>New York</td>\n",
       "      <td>Individual</td>\n",
       "      <td>2021</td>\n",
       "      <td>Renewal</td>\n",
       "      <td>NaN</td>\n",
       "      <td>2020-06-01</td>\n",
       "    </tr>\n",
       "    <tr>\n",
       "      <th>4</th>\n",
       "      <td>2018-11-03</td>\n",
       "      <td>New York</td>\n",
       "      <td>Individual</td>\n",
       "      <td>2021</td>\n",
       "      <td>Renewal</td>\n",
       "      <td>NaN</td>\n",
       "      <td>2020-06-01</td>\n",
       "    </tr>\n",
       "  </tbody>\n",
       "</table>\n",
       "</div>"
      ],
      "text/plain": [
       "  Bookable Date       Region Funding Stream    FY     Type  \\\n",
       "0    2018-04-30  Connecticut     Foundation  2021  Renewal   \n",
       "1    2018-08-01  Connecticut     Individual  2021  Renewal   \n",
       "2    2018-10-31     New York     Individual  2021  Renewal   \n",
       "3    2018-11-01     New York     Individual  2021  Renewal   \n",
       "4    2018-11-03     New York     Individual  2021  Renewal   \n",
       "\n",
       "   FY21 Payment Amount       date  \n",
       "0              25000.0 2020-06-01  \n",
       "1             100000.0 2020-06-01  \n",
       "2              25000.0 2020-06-01  \n",
       "3                  NaN 2020-06-01  \n",
       "4                  NaN 2020-06-01  "
      ]
     },
     "execution_count": 76,
     "metadata": {},
     "output_type": "execute_result"
    }
   ],
   "source": [
    "before_2021['date'] = pd.to_datetime(before_2021['date'])\n",
    "before_2021 = before_2021.reset_index()\n",
    "before_2021.head()"
   ]
  },
  {
   "cell_type": "code",
   "execution_count": 79,
   "id": "straight-happening",
   "metadata": {},
   "outputs": [
    {
     "data": {
      "text/html": [
       "<div>\n",
       "<style scoped>\n",
       "    .dataframe tbody tr th:only-of-type {\n",
       "        vertical-align: middle;\n",
       "    }\n",
       "\n",
       "    .dataframe tbody tr th {\n",
       "        vertical-align: top;\n",
       "    }\n",
       "\n",
       "    .dataframe thead th {\n",
       "        text-align: right;\n",
       "    }\n",
       "</style>\n",
       "<table border=\"1\" class=\"dataframe\">\n",
       "  <thead>\n",
       "    <tr style=\"text-align: right;\">\n",
       "      <th></th>\n",
       "      <th>Bookable Date</th>\n",
       "      <th>Region</th>\n",
       "      <th>Funding Stream</th>\n",
       "      <th>FY</th>\n",
       "      <th>Type</th>\n",
       "      <th>FY21 Payment Amount</th>\n",
       "    </tr>\n",
       "    <tr>\n",
       "      <th>date</th>\n",
       "      <th></th>\n",
       "      <th></th>\n",
       "      <th></th>\n",
       "      <th></th>\n",
       "      <th></th>\n",
       "      <th></th>\n",
       "    </tr>\n",
       "  </thead>\n",
       "  <tbody>\n",
       "    <tr>\n",
       "      <th>2020-06-01</th>\n",
       "      <td>2018-04-30</td>\n",
       "      <td>Connecticut</td>\n",
       "      <td>Foundation</td>\n",
       "      <td>2021</td>\n",
       "      <td>Renewal</td>\n",
       "      <td>25000.0</td>\n",
       "    </tr>\n",
       "    <tr>\n",
       "      <th>2020-06-01</th>\n",
       "      <td>2018-08-01</td>\n",
       "      <td>Connecticut</td>\n",
       "      <td>Individual</td>\n",
       "      <td>2021</td>\n",
       "      <td>Renewal</td>\n",
       "      <td>100000.0</td>\n",
       "    </tr>\n",
       "    <tr>\n",
       "      <th>2020-06-01</th>\n",
       "      <td>2018-10-31</td>\n",
       "      <td>New York</td>\n",
       "      <td>Individual</td>\n",
       "      <td>2021</td>\n",
       "      <td>Renewal</td>\n",
       "      <td>25000.0</td>\n",
       "    </tr>\n",
       "    <tr>\n",
       "      <th>2020-06-01</th>\n",
       "      <td>2018-11-01</td>\n",
       "      <td>New York</td>\n",
       "      <td>Individual</td>\n",
       "      <td>2021</td>\n",
       "      <td>Renewal</td>\n",
       "      <td>NaN</td>\n",
       "    </tr>\n",
       "    <tr>\n",
       "      <th>2020-06-01</th>\n",
       "      <td>2018-11-03</td>\n",
       "      <td>New York</td>\n",
       "      <td>Individual</td>\n",
       "      <td>2021</td>\n",
       "      <td>Renewal</td>\n",
       "      <td>NaN</td>\n",
       "    </tr>\n",
       "  </tbody>\n",
       "</table>\n",
       "</div>"
      ],
      "text/plain": [
       "           Bookable Date       Region Funding Stream    FY     Type  \\\n",
       "date                                                                  \n",
       "2020-06-01    2018-04-30  Connecticut     Foundation  2021  Renewal   \n",
       "2020-06-01    2018-08-01  Connecticut     Individual  2021  Renewal   \n",
       "2020-06-01    2018-10-31     New York     Individual  2021  Renewal   \n",
       "2020-06-01    2018-11-01     New York     Individual  2021  Renewal   \n",
       "2020-06-01    2018-11-03     New York     Individual  2021  Renewal   \n",
       "\n",
       "            FY21 Payment Amount  \n",
       "date                             \n",
       "2020-06-01              25000.0  \n",
       "2020-06-01             100000.0  \n",
       "2020-06-01              25000.0  \n",
       "2020-06-01                  NaN  \n",
       "2020-06-01                  NaN  "
      ]
     },
     "execution_count": 79,
     "metadata": {},
     "output_type": "execute_result"
    }
   ],
   "source": [
    "before_2021.set_index('date',inplace = True)\n",
    "before_2021.head()"
   ]
  },
  {
   "cell_type": "code",
   "execution_count": 82,
   "id": "documented-biotechnology",
   "metadata": {},
   "outputs": [
    {
     "data": {
      "text/html": [
       "<div>\n",
       "<style scoped>\n",
       "    .dataframe tbody tr th:only-of-type {\n",
       "        vertical-align: middle;\n",
       "    }\n",
       "\n",
       "    .dataframe tbody tr th {\n",
       "        vertical-align: top;\n",
       "    }\n",
       "\n",
       "    .dataframe thead th {\n",
       "        text-align: right;\n",
       "    }\n",
       "</style>\n",
       "<table border=\"1\" class=\"dataframe\">\n",
       "  <thead>\n",
       "    <tr style=\"text-align: right;\">\n",
       "      <th></th>\n",
       "      <th>Region</th>\n",
       "      <th>Funding Stream</th>\n",
       "      <th>FY</th>\n",
       "      <th>Type</th>\n",
       "      <th>FY21 Payment Amount</th>\n",
       "    </tr>\n",
       "    <tr>\n",
       "      <th>date</th>\n",
       "      <th></th>\n",
       "      <th></th>\n",
       "      <th></th>\n",
       "      <th></th>\n",
       "      <th></th>\n",
       "    </tr>\n",
       "  </thead>\n",
       "  <tbody>\n",
       "    <tr>\n",
       "      <th>2020-06-01</th>\n",
       "      <td>Connecticut</td>\n",
       "      <td>Foundation</td>\n",
       "      <td>2021</td>\n",
       "      <td>Renewal</td>\n",
       "      <td>25000.0</td>\n",
       "    </tr>\n",
       "    <tr>\n",
       "      <th>2020-06-01</th>\n",
       "      <td>Connecticut</td>\n",
       "      <td>Individual</td>\n",
       "      <td>2021</td>\n",
       "      <td>Renewal</td>\n",
       "      <td>100000.0</td>\n",
       "    </tr>\n",
       "    <tr>\n",
       "      <th>2020-06-01</th>\n",
       "      <td>New York</td>\n",
       "      <td>Individual</td>\n",
       "      <td>2021</td>\n",
       "      <td>Renewal</td>\n",
       "      <td>25000.0</td>\n",
       "    </tr>\n",
       "    <tr>\n",
       "      <th>2020-06-01</th>\n",
       "      <td>New York</td>\n",
       "      <td>Individual</td>\n",
       "      <td>2021</td>\n",
       "      <td>Renewal</td>\n",
       "      <td>NaN</td>\n",
       "    </tr>\n",
       "    <tr>\n",
       "      <th>2020-06-01</th>\n",
       "      <td>New York</td>\n",
       "      <td>Individual</td>\n",
       "      <td>2021</td>\n",
       "      <td>Renewal</td>\n",
       "      <td>NaN</td>\n",
       "    </tr>\n",
       "  </tbody>\n",
       "</table>\n",
       "</div>"
      ],
      "text/plain": [
       "                 Region Funding Stream    FY     Type  FY21 Payment Amount\n",
       "date                                                                      \n",
       "2020-06-01  Connecticut     Foundation  2021  Renewal              25000.0\n",
       "2020-06-01  Connecticut     Individual  2021  Renewal             100000.0\n",
       "2020-06-01     New York     Individual  2021  Renewal              25000.0\n",
       "2020-06-01     New York     Individual  2021  Renewal                  NaN\n",
       "2020-06-01     New York     Individual  2021  Renewal                  NaN"
      ]
     },
     "execution_count": 82,
     "metadata": {},
     "output_type": "execute_result"
    }
   ],
   "source": [
    "before_2021 =  before_2021.drop('Bookable Date', 1)\n",
    "before_2021.head()"
   ]
  },
  {
   "cell_type": "code",
   "execution_count": 86,
   "id": "revolutionary-geology",
   "metadata": {},
   "outputs": [],
   "source": [
    "df2 = before_2021.append(df2)\n"
   ]
  },
  {
   "cell_type": "code",
   "execution_count": 88,
   "id": "signed-affiliate",
   "metadata": {},
   "outputs": [
    {
     "data": {
      "text/plain": [
       "1489"
      ]
     },
     "execution_count": 88,
     "metadata": {},
     "output_type": "execute_result"
    }
   ],
   "source": [
    "len(df2.index)\n",
    "#df2.head()"
   ]
  },
  {
   "cell_type": "code",
   "execution_count": 89,
   "id": "rational-disco",
   "metadata": {},
   "outputs": [
    {
     "data": {
      "text/html": [
       "<div>\n",
       "<style scoped>\n",
       "    .dataframe tbody tr th:only-of-type {\n",
       "        vertical-align: middle;\n",
       "    }\n",
       "\n",
       "    .dataframe tbody tr th {\n",
       "        vertical-align: top;\n",
       "    }\n",
       "\n",
       "    .dataframe thead th {\n",
       "        text-align: right;\n",
       "    }\n",
       "</style>\n",
       "<table border=\"1\" class=\"dataframe\">\n",
       "  <thead>\n",
       "    <tr style=\"text-align: right;\">\n",
       "      <th></th>\n",
       "      <th>Region</th>\n",
       "      <th>Funding Stream</th>\n",
       "      <th>FY</th>\n",
       "      <th>Type</th>\n",
       "      <th>FY21 Payment Amount</th>\n",
       "      <th>cum_sum</th>\n",
       "    </tr>\n",
       "  </thead>\n",
       "  <tbody>\n",
       "    <tr>\n",
       "      <th>2020-06-01</th>\n",
       "      <td>Connecticut</td>\n",
       "      <td>Foundation</td>\n",
       "      <td>2021</td>\n",
       "      <td>Renewal</td>\n",
       "      <td>25000.00</td>\n",
       "      <td>25000.00</td>\n",
       "    </tr>\n",
       "    <tr>\n",
       "      <th>2020-06-01</th>\n",
       "      <td>Connecticut</td>\n",
       "      <td>Individual</td>\n",
       "      <td>2021</td>\n",
       "      <td>Renewal</td>\n",
       "      <td>100000.00</td>\n",
       "      <td>125000.00</td>\n",
       "    </tr>\n",
       "    <tr>\n",
       "      <th>2020-06-01</th>\n",
       "      <td>New York</td>\n",
       "      <td>Individual</td>\n",
       "      <td>2021</td>\n",
       "      <td>Renewal</td>\n",
       "      <td>25000.00</td>\n",
       "      <td>150000.00</td>\n",
       "    </tr>\n",
       "    <tr>\n",
       "      <th>2020-06-01</th>\n",
       "      <td>New York</td>\n",
       "      <td>Individual</td>\n",
       "      <td>2021</td>\n",
       "      <td>Renewal</td>\n",
       "      <td>NaN</td>\n",
       "      <td>NaN</td>\n",
       "    </tr>\n",
       "    <tr>\n",
       "      <th>2020-06-01</th>\n",
       "      <td>New York</td>\n",
       "      <td>Individual</td>\n",
       "      <td>2021</td>\n",
       "      <td>Renewal</td>\n",
       "      <td>NaN</td>\n",
       "      <td>NaN</td>\n",
       "    </tr>\n",
       "    <tr>\n",
       "      <th>2020-06-01</th>\n",
       "      <td>New York</td>\n",
       "      <td>Individual</td>\n",
       "      <td>2021</td>\n",
       "      <td>Renewal</td>\n",
       "      <td>NaN</td>\n",
       "      <td>NaN</td>\n",
       "    </tr>\n",
       "    <tr>\n",
       "      <th>2020-06-01</th>\n",
       "      <td>New York</td>\n",
       "      <td>Individual</td>\n",
       "      <td>2021</td>\n",
       "      <td>Renewal</td>\n",
       "      <td>1000000.00</td>\n",
       "      <td>1150000.00</td>\n",
       "    </tr>\n",
       "    <tr>\n",
       "      <th>2020-06-01</th>\n",
       "      <td>New York</td>\n",
       "      <td>Individual</td>\n",
       "      <td>2021</td>\n",
       "      <td>Renewal</td>\n",
       "      <td>353998.30</td>\n",
       "      <td>1503998.30</td>\n",
       "    </tr>\n",
       "    <tr>\n",
       "      <th>2020-06-01</th>\n",
       "      <td>New York</td>\n",
       "      <td>Individual</td>\n",
       "      <td>2021</td>\n",
       "      <td>Renewal</td>\n",
       "      <td>146001.70</td>\n",
       "      <td>1650000.00</td>\n",
       "    </tr>\n",
       "    <tr>\n",
       "      <th>2020-06-01</th>\n",
       "      <td>New York</td>\n",
       "      <td>Individual</td>\n",
       "      <td>2021</td>\n",
       "      <td>Renewal</td>\n",
       "      <td>250000.00</td>\n",
       "      <td>1900000.00</td>\n",
       "    </tr>\n",
       "    <tr>\n",
       "      <th>2020-06-01</th>\n",
       "      <td>New York</td>\n",
       "      <td>Individual</td>\n",
       "      <td>2021</td>\n",
       "      <td>Renewal</td>\n",
       "      <td>46230.20</td>\n",
       "      <td>1946230.20</td>\n",
       "    </tr>\n",
       "    <tr>\n",
       "      <th>2020-06-01</th>\n",
       "      <td>New York</td>\n",
       "      <td>Individual</td>\n",
       "      <td>2021</td>\n",
       "      <td>Renewal</td>\n",
       "      <td>NaN</td>\n",
       "      <td>NaN</td>\n",
       "    </tr>\n",
       "    <tr>\n",
       "      <th>2020-06-01</th>\n",
       "      <td>New York</td>\n",
       "      <td>Individual</td>\n",
       "      <td>2021</td>\n",
       "      <td>Renewal</td>\n",
       "      <td>5039.64</td>\n",
       "      <td>1951269.84</td>\n",
       "    </tr>\n",
       "    <tr>\n",
       "      <th>2020-06-01</th>\n",
       "      <td>New Jersey</td>\n",
       "      <td>Individual</td>\n",
       "      <td>2021</td>\n",
       "      <td>Renewal</td>\n",
       "      <td>75000.00</td>\n",
       "      <td>2026269.84</td>\n",
       "    </tr>\n",
       "    <tr>\n",
       "      <th>2020-06-01</th>\n",
       "      <td>New York</td>\n",
       "      <td>Individual</td>\n",
       "      <td>2021</td>\n",
       "      <td>Renewal</td>\n",
       "      <td>NaN</td>\n",
       "      <td>NaN</td>\n",
       "    </tr>\n",
       "    <tr>\n",
       "      <th>2020-06-01</th>\n",
       "      <td>New York</td>\n",
       "      <td>Individual</td>\n",
       "      <td>2021</td>\n",
       "      <td>Renewal</td>\n",
       "      <td>NaN</td>\n",
       "      <td>NaN</td>\n",
       "    </tr>\n",
       "    <tr>\n",
       "      <th>2020-06-01</th>\n",
       "      <td>New York</td>\n",
       "      <td>Individual</td>\n",
       "      <td>2021</td>\n",
       "      <td>Renewal</td>\n",
       "      <td>NaN</td>\n",
       "      <td>NaN</td>\n",
       "    </tr>\n",
       "    <tr>\n",
       "      <th>2020-06-01</th>\n",
       "      <td>New York</td>\n",
       "      <td>Individual</td>\n",
       "      <td>2021</td>\n",
       "      <td>Renewal</td>\n",
       "      <td>NaN</td>\n",
       "      <td>NaN</td>\n",
       "    </tr>\n",
       "    <tr>\n",
       "      <th>2020-06-01</th>\n",
       "      <td>New York</td>\n",
       "      <td>Individual</td>\n",
       "      <td>2021</td>\n",
       "      <td>Renewal</td>\n",
       "      <td>20000.00</td>\n",
       "      <td>2046269.84</td>\n",
       "    </tr>\n",
       "    <tr>\n",
       "      <th>2020-06-01</th>\n",
       "      <td>New York</td>\n",
       "      <td>Individual</td>\n",
       "      <td>2021</td>\n",
       "      <td>Renewal</td>\n",
       "      <td>50000.00</td>\n",
       "      <td>2096269.84</td>\n",
       "    </tr>\n",
       "  </tbody>\n",
       "</table>\n",
       "</div>"
      ],
      "text/plain": [
       "                 Region Funding Stream    FY     Type  FY21 Payment Amount  \\\n",
       "2020-06-01  Connecticut     Foundation  2021  Renewal             25000.00   \n",
       "2020-06-01  Connecticut     Individual  2021  Renewal            100000.00   \n",
       "2020-06-01     New York     Individual  2021  Renewal             25000.00   \n",
       "2020-06-01     New York     Individual  2021  Renewal                  NaN   \n",
       "2020-06-01     New York     Individual  2021  Renewal                  NaN   \n",
       "2020-06-01     New York     Individual  2021  Renewal                  NaN   \n",
       "2020-06-01     New York     Individual  2021  Renewal           1000000.00   \n",
       "2020-06-01     New York     Individual  2021  Renewal            353998.30   \n",
       "2020-06-01     New York     Individual  2021  Renewal            146001.70   \n",
       "2020-06-01     New York     Individual  2021  Renewal            250000.00   \n",
       "2020-06-01     New York     Individual  2021  Renewal             46230.20   \n",
       "2020-06-01     New York     Individual  2021  Renewal                  NaN   \n",
       "2020-06-01     New York     Individual  2021  Renewal              5039.64   \n",
       "2020-06-01   New Jersey     Individual  2021  Renewal             75000.00   \n",
       "2020-06-01     New York     Individual  2021  Renewal                  NaN   \n",
       "2020-06-01     New York     Individual  2021  Renewal                  NaN   \n",
       "2020-06-01     New York     Individual  2021  Renewal                  NaN   \n",
       "2020-06-01     New York     Individual  2021  Renewal                  NaN   \n",
       "2020-06-01     New York     Individual  2021  Renewal             20000.00   \n",
       "2020-06-01     New York     Individual  2021  Renewal             50000.00   \n",
       "\n",
       "               cum_sum  \n",
       "2020-06-01    25000.00  \n",
       "2020-06-01   125000.00  \n",
       "2020-06-01   150000.00  \n",
       "2020-06-01         NaN  \n",
       "2020-06-01         NaN  \n",
       "2020-06-01         NaN  \n",
       "2020-06-01  1150000.00  \n",
       "2020-06-01  1503998.30  \n",
       "2020-06-01  1650000.00  \n",
       "2020-06-01  1900000.00  \n",
       "2020-06-01  1946230.20  \n",
       "2020-06-01         NaN  \n",
       "2020-06-01  1951269.84  \n",
       "2020-06-01  2026269.84  \n",
       "2020-06-01         NaN  \n",
       "2020-06-01         NaN  \n",
       "2020-06-01         NaN  \n",
       "2020-06-01         NaN  \n",
       "2020-06-01  2046269.84  \n",
       "2020-06-01  2096269.84  "
      ]
     },
     "execution_count": 89,
     "metadata": {},
     "output_type": "execute_result"
    }
   ],
   "source": [
    "df2['cum_sum'] = df2['FY21 Payment Amount'].cumsum()\n",
    "df2.head(20)\n"
   ]
  },
  {
   "cell_type": "code",
   "execution_count": 90,
   "id": "artistic-father",
   "metadata": {},
   "outputs": [
    {
     "data": {
      "image/png": "[encoded data removed]",
      "text/plain": [
       "<Figure size 432x288 with 1 Axes>"
      ]
     },
     "metadata": {
      "needs_background": "light"
     },
     "output_type": "display_data"
    }
   ],
   "source": [
    "fig, ax = plt.subplots()\n",
    "ax.set_xlabel('Time')\n",
    "ax.set_ylabel('FY21 Payment Amount')\n",
    "ax.plot(df2.index,df2['FY21 Payment Amount'])\n",
    "ax.get_yaxis().get_major_formatter().set_scientific(False)\n",
    "plt.show()"
   ]
  },
  {
   "cell_type": "code",
   "execution_count": 94,
   "id": "indoor-maple",
   "metadata": {},
   "outputs": [
    {
     "data": {
      "image/png": "[encoded data removed]",
      "text/plain": [
       "<Figure size 432x288 with 1 Axes>"
      ]
     },
     "metadata": {
      "needs_background": "light"
     },
     "output_type": "display_data"
    }
   ],
   "source": [
    "fig, ax = plt.subplots()\n",
    "ax.set_xlabel('Time')\n",
    "ax.set_ylabel('FY21 Cum Payment Amount')\n",
    "ax.plot(df2.index,df2['cum_sum'], linewidth=3,label = 'Total')\n",
    "ax.plot(dfny.index,dfny['cum_sum_ny'],linewidth=3,label = 'NY')\n",
    "ax.plot(dfnj.index,dfnj['cum_sum_nj'],linewidth=3,label = 'NJ')\n",
    "ax.plot(dfct.index,dfct['cum_sum_ct'],linewidth=3,label = 'CT')\n",
    "ax.get_yaxis().get_major_formatter().set_scientific(False)\n",
    "leg = plt.legend(loc='upper left')\n",
    "plt.show()"
   ]
  },
  {
   "cell_type": "code",
   "execution_count": 91,
   "id": "fifteen-palmer",
   "metadata": {},
   "outputs": [
    {
     "name": "stderr",
     "output_type": "stream",
     "text": [
      "/Library/Frameworks/Python.framework/Versions/3.7/lib/python3.7/site-packages/ipykernel_launcher.py:2: SettingWithCopyWarning: \n",
      "A value is trying to be set on a copy of a slice from a DataFrame.\n",
      "Try using .loc[row_indexer,col_indexer] = value instead\n",
      "\n",
      "See the caveats in the documentation: https://pandas.pydata.org/pandas-docs/stable/user_guide/indexing.html#returning-a-view-versus-a-copy\n",
      "  \n"
     ]
    },
    {
     "data": {
      "image/png": "[encoded data removed]",
      "text/plain": [
       "<Figure size 432x288 with 1 Axes>"
      ]
     },
     "metadata": {
      "needs_background": "light"
     },
     "output_type": "display_data"
    }
   ],
   "source": [
    "dfny = df2[df2['Region'] == 'New York']\n",
    "dfny['cum_sum_ny'] = dfny['FY21 Payment Amount'].cumsum()\n",
    "fig, ax = plt.subplots()\n",
    "ax.set_xlabel('Time')\n",
    "ax.set_ylabel('FY21NY Cum Payment Amount')\n",
    "ax.get_yaxis().get_major_formatter().set_scientific(False)\n",
    "ax.plot(dfny.index,dfny['cum_sum_ny'])\n",
    "plt.show()"
   ]
  },
  {
   "cell_type": "code",
   "execution_count": 92,
   "id": "dangerous-parent",
   "metadata": {},
   "outputs": [
    {
     "name": "stderr",
     "output_type": "stream",
     "text": [
      "/Library/Frameworks/Python.framework/Versions/3.7/lib/python3.7/site-packages/ipykernel_launcher.py:2: SettingWithCopyWarning: \n",
      "A value is trying to be set on a copy of a slice from a DataFrame.\n",
      "Try using .loc[row_indexer,col_indexer] = value instead\n",
      "\n",
      "See the caveats in the documentation: https://pandas.pydata.org/pandas-docs/stable/user_guide/indexing.html#returning-a-view-versus-a-copy\n",
      "  \n"
     ]
    },
    {
     "data": {
      "image/png": "[encoded data removed]",
      "text/plain": [
       "<Figure size 432x288 with 1 Axes>"
      ]
     },
     "metadata": {
      "needs_background": "light"
     },
     "output_type": "display_data"
    }
   ],
   "source": [
    "dfnj = df2[df2['Region'] == 'New Jersey']\n",
    "dfnj['cum_sum_nj'] = dfnj['FY21 Payment Amount'].cumsum()\n",
    "fig, ax = plt.subplots()\n",
    "ax.set_xlabel('Time')\n",
    "ax.set_ylabel('FY21NJ Cum Payment Amount')\n",
    "ax.get_yaxis().get_major_formatter().set_scientific(False)\n",
    "ax.plot(dfnj.index,dfnj['cum_sum_nj'])\n",
    "plt.show()"
   ]
  },
  {
   "cell_type": "code",
   "execution_count": 93,
   "id": "covered-furniture",
   "metadata": {},
   "outputs": [
    {
     "name": "stderr",
     "output_type": "stream",
     "text": [
      "/Library/Frameworks/Python.framework/Versions/3.7/lib/python3.7/site-packages/ipykernel_launcher.py:2: SettingWithCopyWarning: \n",
      "A value is trying to be set on a copy of a slice from a DataFrame.\n",
      "Try using .loc[row_indexer,col_indexer] = value instead\n",
      "\n",
      "See the caveats in the documentation: https://pandas.pydata.org/pandas-docs/stable/user_guide/indexing.html#returning-a-view-versus-a-copy\n",
      "  \n"
     ]
    },
    {
     "data": {
      "image/png": "[encoded data removed]",
      "text/plain": [
       "<Figure size 432x288 with 1 Axes>"
      ]
     },
     "metadata": {
      "needs_background": "light"
     },
     "output_type": "display_data"
    }
   ],
   "source": [
    "dfct = df2[df2['Region'] == 'Connecticut']\n",
    "dfct['cum_sum_ct'] = dfct['FY21 Payment Amount'].cumsum()\n",
    "fig, ax = plt.subplots()\n",
    "ax.set_xlabel('Time')\n",
    "ax.set_ylabel('FY21CT Cum Payment Amount')\n",
    "ax.plot(dfct.index,dfct['cum_sum_ct'])\n",
    "ax.get_yaxis().get_major_formatter().set_scientific(False)\n",
    "plt.show()"
   ]
  },
  {
   "cell_type": "code",
   "execution_count": 95,
   "id": "fifth-peace",
   "metadata": {},
   "outputs": [
    {
     "name": "stderr",
     "output_type": "stream",
     "text": [
      "/Library/Frameworks/Python.framework/Versions/3.7/lib/python3.7/site-packages/seaborn/_decorators.py:43: FutureWarning: Pass the following variables as keyword args: x, y. From version 0.12, the only valid positional argument will be `data`, and passing other arguments without an explicit keyword will result in an error or misinterpretation.\n",
      "  FutureWarning\n"
     ]
    },
    {
     "data": {
      "image/png": "[encoded data removed]",
      "text/plain": [
       "<Figure size 494.375x360 with 1 Axes>"
      ]
     },
     "metadata": {
      "needs_background": "light"
     },
     "output_type": "display_data"
    }
   ],
   "source": [
    "sns.catplot('Region','FY21 Payment Amount',data = df2,kind = 'bar',ci = None, hue = 'Funding Stream',estimator=sum)\n",
    "plt.xticks(rotation=45)\n",
    "plt.show()"
   ]
  },
  {
   "cell_type": "code",
   "execution_count": 97,
   "id": "painful-negotiation",
   "metadata": {},
   "outputs": [
    {
     "data": {
      "text/html": [
       "<div>\n",
       "<style scoped>\n",
       "    .dataframe tbody tr th:only-of-type {\n",
       "        vertical-align: middle;\n",
       "    }\n",
       "\n",
       "    .dataframe tbody tr th {\n",
       "        vertical-align: top;\n",
       "    }\n",
       "\n",
       "    .dataframe thead th {\n",
       "        text-align: right;\n",
       "    }\n",
       "</style>\n",
       "<table border=\"1\" class=\"dataframe\">\n",
       "  <thead>\n",
       "    <tr style=\"text-align: right;\">\n",
       "      <th></th>\n",
       "      <th>Region</th>\n",
       "      <th>Funding Stream</th>\n",
       "      <th>FY</th>\n",
       "      <th>Type</th>\n",
       "      <th>FY21 Payment Amount</th>\n",
       "      <th>cum_sum</th>\n",
       "      <th>cum_sum1</th>\n",
       "    </tr>\n",
       "  </thead>\n",
       "  <tbody>\n",
       "    <tr>\n",
       "      <th>2020-06-01</th>\n",
       "      <td>Connecticut</td>\n",
       "      <td>Foundation</td>\n",
       "      <td>2021</td>\n",
       "      <td>Renewal</td>\n",
       "      <td>25000.0</td>\n",
       "      <td>25000.0</td>\n",
       "      <td>25000.0</td>\n",
       "    </tr>\n",
       "    <tr>\n",
       "      <th>2020-06-01</th>\n",
       "      <td>Connecticut</td>\n",
       "      <td>Individual</td>\n",
       "      <td>2021</td>\n",
       "      <td>Renewal</td>\n",
       "      <td>100000.0</td>\n",
       "      <td>125000.0</td>\n",
       "      <td>100000.0</td>\n",
       "    </tr>\n",
       "    <tr>\n",
       "      <th>2020-06-01</th>\n",
       "      <td>New York</td>\n",
       "      <td>Individual</td>\n",
       "      <td>2021</td>\n",
       "      <td>Renewal</td>\n",
       "      <td>25000.0</td>\n",
       "      <td>150000.0</td>\n",
       "      <td>125000.0</td>\n",
       "    </tr>\n",
       "    <tr>\n",
       "      <th>2020-06-01</th>\n",
       "      <td>New York</td>\n",
       "      <td>Individual</td>\n",
       "      <td>2021</td>\n",
       "      <td>Renewal</td>\n",
       "      <td>NaN</td>\n",
       "      <td>NaN</td>\n",
       "      <td>NaN</td>\n",
       "    </tr>\n",
       "    <tr>\n",
       "      <th>2020-06-01</th>\n",
       "      <td>New York</td>\n",
       "      <td>Individual</td>\n",
       "      <td>2021</td>\n",
       "      <td>Renewal</td>\n",
       "      <td>NaN</td>\n",
       "      <td>NaN</td>\n",
       "      <td>NaN</td>\n",
       "    </tr>\n",
       "  </tbody>\n",
       "</table>\n",
       "</div>"
      ],
      "text/plain": [
       "                 Region Funding Stream    FY     Type  FY21 Payment Amount  \\\n",
       "2020-06-01  Connecticut     Foundation  2021  Renewal              25000.0   \n",
       "2020-06-01  Connecticut     Individual  2021  Renewal             100000.0   \n",
       "2020-06-01     New York     Individual  2021  Renewal              25000.0   \n",
       "2020-06-01     New York     Individual  2021  Renewal                  NaN   \n",
       "2020-06-01     New York     Individual  2021  Renewal                  NaN   \n",
       "\n",
       "             cum_sum  cum_sum1  \n",
       "2020-06-01   25000.0   25000.0  \n",
       "2020-06-01  125000.0  100000.0  \n",
       "2020-06-01  150000.0  125000.0  \n",
       "2020-06-01       NaN       NaN  \n",
       "2020-06-01       NaN       NaN  "
      ]
     },
     "execution_count": 97,
     "metadata": {},
     "output_type": "execute_result"
    }
   ],
   "source": [
    "df2.head()"
   ]
  },
  {
   "cell_type": "code",
   "execution_count": 99,
   "id": "entertaining-october",
   "metadata": {},
   "outputs": [
    {
     "data": {
      "image/png": "[encoded data removed]",
      "text/plain": [
       "<Figure size 494.375x360 with 1 Axes>"
      ]
     },
     "metadata": {
      "needs_background": "light"
     },
     "output_type": "display_data"
    }
   ],
   "source": [
    "df2['cum_sum1'] = df2.groupby('Funding Stream')['FY21 Payment Amount'].transform(pd.Series.cumsum)\n",
    "sns.relplot(df2.index,'cum_sum1',hue = 'Funding Stream',kind ='line',style = 'Funding Stream',data = df2)\n",
    "plt.ticklabel_format(style='plain', axis='y')\n",
    "plt.show()"
   ]
  },
  {
   "cell_type": "code",
   "execution_count": 100,
   "id": "crazy-kansas",
   "metadata": {},
   "outputs": [
    {
     "name": "stderr",
     "output_type": "stream",
     "text": [
      "/Library/Frameworks/Python.framework/Versions/3.7/lib/python3.7/site-packages/ipykernel_launcher.py:1: SettingWithCopyWarning: \n",
      "A value is trying to be set on a copy of a slice from a DataFrame.\n",
      "Try using .loc[row_indexer,col_indexer] = value instead\n",
      "\n",
      "See the caveats in the documentation: https://pandas.pydata.org/pandas-docs/stable/user_guide/indexing.html#returning-a-view-versus-a-copy\n",
      "  \"\"\"Entry point for launching an IPython kernel.\n",
      "/Library/Frameworks/Python.framework/Versions/3.7/lib/python3.7/site-packages/seaborn/_decorators.py:43: FutureWarning: Pass the following variables as keyword args: x, y. From version 0.12, the only valid positional argument will be `data`, and passing other arguments without an explicit keyword will result in an error or misinterpretation.\n",
      "  FutureWarning\n"
     ]
    },
    {
     "data": {
      "image/png": "[encoded data removed]",
      "text/plain": [
       "<Figure size 494.375x360 with 1 Axes>"
      ]
     },
     "metadata": {
      "needs_background": "light"
     },
     "output_type": "display_data"
    }
   ],
   "source": [
    "dfny['cum_sum1'] = dfny.groupby('Funding Stream')['FY21 Payment Amount'].transform(pd.Series.cumsum)\n",
    "sns.relplot(dfny.index,'cum_sum1',hue = 'Funding Stream',kind ='line',style = 'Funding Stream',data = dfny)\n",
    "plt.ticklabel_format(style='plain', axis='y')\n",
    "plt.show()"
   ]
  },
  {
   "cell_type": "code",
   "execution_count": 101,
   "id": "numerical-budapest",
   "metadata": {},
   "outputs": [
    {
     "name": "stderr",
     "output_type": "stream",
     "text": [
      "/Library/Frameworks/Python.framework/Versions/3.7/lib/python3.7/site-packages/ipykernel_launcher.py:1: SettingWithCopyWarning: \n",
      "A value is trying to be set on a copy of a slice from a DataFrame.\n",
      "Try using .loc[row_indexer,col_indexer] = value instead\n",
      "\n",
      "See the caveats in the documentation: https://pandas.pydata.org/pandas-docs/stable/user_guide/indexing.html#returning-a-view-versus-a-copy\n",
      "  \"\"\"Entry point for launching an IPython kernel.\n",
      "/Library/Frameworks/Python.framework/Versions/3.7/lib/python3.7/site-packages/seaborn/_decorators.py:43: FutureWarning: Pass the following variables as keyword args: x, y. From version 0.12, the only valid positional argument will be `data`, and passing other arguments without an explicit keyword will result in an error or misinterpretation.\n",
      "  FutureWarning\n"
     ]
    },
    {
     "data": {
      "image/png": "[encoded data removed]",
      "text/plain": [
       "<Figure size 494.375x360 with 1 Axes>"
      ]
     },
     "metadata": {
      "needs_background": "light"
     },
     "output_type": "display_data"
    }
   ],
   "source": [
    "dfnj['cum_sum1'] = dfnj.groupby('Funding Stream')['FY21 Payment Amount'].transform(pd.Series.cumsum)\n",
    "sns.relplot(dfnj.index,'cum_sum1',hue = 'Funding Stream',kind ='line',style = 'Funding Stream',data = dfnj)\n",
    "plt.ticklabel_format(style='plain', axis='y')\n",
    "plt.show()"
   ]
  },
  {
   "cell_type": "code",
   "execution_count": 102,
   "id": "negative-newspaper",
   "metadata": {},
   "outputs": [
    {
     "name": "stderr",
     "output_type": "stream",
     "text": [
      "/Library/Frameworks/Python.framework/Versions/3.7/lib/python3.7/site-packages/ipykernel_launcher.py:1: SettingWithCopyWarning: \n",
      "A value is trying to be set on a copy of a slice from a DataFrame.\n",
      "Try using .loc[row_indexer,col_indexer] = value instead\n",
      "\n",
      "See the caveats in the documentation: https://pandas.pydata.org/pandas-docs/stable/user_guide/indexing.html#returning-a-view-versus-a-copy\n",
      "  \"\"\"Entry point for launching an IPython kernel.\n",
      "/Library/Frameworks/Python.framework/Versions/3.7/lib/python3.7/site-packages/seaborn/_decorators.py:43: FutureWarning: Pass the following variables as keyword args: x, y. From version 0.12, the only valid positional argument will be `data`, and passing other arguments without an explicit keyword will result in an error or misinterpretation.\n",
      "  FutureWarning\n"
     ]
    },
    {
     "data": {
      "image/png": "[encoded data removed]",
      "text/plain": [
       "<Figure size 494.375x360 with 1 Axes>"
      ]
     },
     "metadata": {
      "needs_background": "light"
     },
     "output_type": "display_data"
    }
   ],
   "source": [
    "dfct['cum_sum1'] = dfct.groupby('Funding Stream')['FY21 Payment Amount'].transform(pd.Series.cumsum)\n",
    "sns.relplot(dfct.index,'cum_sum1',hue = 'Funding Stream',style = 'Funding Stream',kind ='line',data = dfct)\n",
    "plt.ticklabel_format(style='plain', axis='y')\n",
    "plt.show()"
   ]
  },
  {
   "cell_type": "code",
   "execution_count": null,
   "id": "genetic-serum",
   "metadata": {},
   "outputs": [],
   "source": []
  }
 ],
 "metadata": {
  "kernelspec": {
   "display_name": "Python 3",
   "language": "python",
   "name": "python3"
  },
  "language_info": {
   "codemirror_mode": {
    "name": "ipython",
    "version": 3
   },
   "file_extension": ".py",
   "mimetype": "text/x-python",
   "name": "python",
   "nbconvert_exporter": "python",
   "pygments_lexer": "ipython3",
   "version": "3.7.3"
  }
 },
 "nbformat": 4,
 "nbformat_minor": 5
}
